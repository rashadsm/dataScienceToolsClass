{
 "cells": [
  {
   "cell_type": "markdown",
   "id": "295b2fd8",
   "metadata": {},
   "source": [
    "# Data Science Tools and Ecosystems \n",
    "## In this notebook, Data Science Tools and Ecosystem are summarized.\n",
    "### Some of the popular languages that Data Scientists use are:\n",
    "\n",
    "1. Python\n",
    "2. R\n",
    "3. Java\n",
    "\n",
    "**Objectives:** \n",
    "- Python \n",
    "- R \n",
    "- Java \n",
    "- SQL\n",
    "- Julia\n",
    "- JavaScript\n",
    "\n",
    "### Some of the commonly used libraries used by Data Scientists include:\n",
    "- Numpy (Python)\n",
    "- Pandas (Python)\n",
    "- Seaborn ((Python)\n",
    "- Caret (R)\n",
    "- Dyplrn (R)"
   ]
  },
  {
   "cell_type": "markdown",
   "id": "b969f0f8",
   "metadata": {},
   "source": [
    "Data Science Tools |\n",
    "-----------------------------\n",
    "R |\n",
    "Python |\n",
    "Stata |\n",
    "Matlab |"
   ]
  },
  {
   "cell_type": "markdown",
   "id": "c7ff22b5",
   "metadata": {},
   "source": [
    "### Below are a few examples of evaluating arithmetic expressions in Python\n",
    "- Addition + \n",
    "- Subtraction - \n",
    "- Multiplication *\n",
    "- Division /"
   ]
  },
  {
   "cell_type": "markdown",
   "id": "7b27d953",
   "metadata": {},
   "source": [
    "### This a simple arithmetic expression to mutiply then add integers"
   ]
  },
  {
   "cell_type": "code",
   "execution_count": 2,
   "id": "09482d06",
   "metadata": {},
   "outputs": [
    {
     "data": {
      "text/plain": [
       "17"
      ]
     },
     "execution_count": 2,
     "metadata": {},
     "output_type": "execute_result"
    }
   ],
   "source": [
    "(3*4)+5"
   ]
  },
  {
   "cell_type": "markdown",
   "id": "7b5e5227",
   "metadata": {},
   "source": [
    "### This will convert 200 minutes to hours by diving by 60"
   ]
  },
  {
   "cell_type": "code",
   "execution_count": 4,
   "id": "5ec9a448",
   "metadata": {},
   "outputs": [
    {
     "name": "stdout",
     "output_type": "stream",
     "text": [
      "200 minutes equals  3.3333333333333335  hours\n"
     ]
    }
   ],
   "source": [
    "hours = 200/60\n",
    "print(\"200 minutes equals \", hours, \" hours\")"
   ]
  },
  {
   "cell_type": "markdown",
   "id": "b80d0d10",
   "metadata": {},
   "source": [
    "## Author\n",
    "Rashad Sadigov"
   ]
  },
  {
   "cell_type": "code",
   "execution_count": null,
   "id": "7923a38a",
   "metadata": {},
   "outputs": [],
   "source": []
  }
 ],
 "metadata": {
  "kernelspec": {
   "display_name": "Python 3 (ipykernel)",
   "language": "python",
   "name": "python3"
  },
  "language_info": {
   "codemirror_mode": {
    "name": "ipython",
    "version": 3
   },
   "file_extension": ".py",
   "mimetype": "text/x-python",
   "name": "python",
   "nbconvert_exporter": "python",
   "pygments_lexer": "ipython3",
   "version": "3.11.4"
  }
 },
 "nbformat": 4,
 "nbformat_minor": 5
}
